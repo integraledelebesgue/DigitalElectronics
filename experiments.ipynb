{
 "cells": [
  {
   "cell_type": "code",
   "execution_count": 1,
   "metadata": {},
   "outputs": [
    {
     "data": {
      "text/plain": [
       "4-element Vector{String}:\n",
       " \"@\"\n",
       " \"@v#.#\"\n",
       " \"@stdlib\"\n",
       " \"/home/jpsmolka/Studia/Semestr_IV/TC/Software\""
      ]
     },
     "metadata": {},
     "output_type": "display_data"
    }
   ],
   "source": [
    "push!(LOAD_PATH, @__DIR__)"
   ]
  },
  {
   "cell_type": "code",
   "execution_count": 2,
   "metadata": {},
   "outputs": [],
   "source": [
    "using LogicalFunctions"
   ]
  },
  {
   "cell_type": "code",
   "execution_count": 3,
   "metadata": {},
   "outputs": [
    {
     "data": {
      "text/plain": [
       "positive (generic function with 1 method)"
      ]
     },
     "metadata": {},
     "output_type": "display_data"
    }
   ],
   "source": [
    "function positive(table::TruthTable)::TruthTable\n",
    "    filter(\n",
    "        entry -> entry.second,\n",
    "        table\n",
    "    )\n",
    "end"
   ]
  },
  {
   "cell_type": "code",
   "execution_count": 4,
   "metadata": {},
   "outputs": [
    {
     "data": {
      "text/plain": [
       "f (generic function with 1 method)"
      ]
     },
     "metadata": {},
     "output_type": "display_data"
    }
   ],
   "source": [
    "f(a, b, c) = (a && b) || (!b && c) || c"
   ]
  },
  {
   "cell_type": "code",
   "execution_count": 5,
   "metadata": {},
   "outputs": [
    {
     "data": {
      "text/plain": [
       "KeySet for a Dict{BitVector, Union{Nothing, Bool}} with 5 entries. Keys:\n",
       "  Bool[1, 0, 1]\n",
       "  Bool[0, 0, 1]\n",
       "  Bool[1, 1, 1]\n",
       "  Bool[0, 1, 1]\n",
       "  Bool[1, 1, 0]"
      ]
     },
     "metadata": {},
     "output_type": "display_data"
    }
   ],
   "source": [
    "table = evaluate(f, exhaust(3)) |> \n",
    "    positive |> \n",
    "    keys"
   ]
  },
  {
   "cell_type": "code",
   "execution_count": 6,
   "metadata": {},
   "outputs": [
    {
     "data": {
      "text/plain": [
       "5-element Vector{Vector{Union{BitVector, Vector{Union{Missing, Bool}}}}}:\n",
       " [Bool[0, 0, 1], Bool[1, 1, 1], Bool[1, 0, 0]]\n",
       " [Bool[1, 0, 1], Bool[0, 1, 1], Bool[0, 0, 0]]\n",
       " [Bool[0, 1, 1], Bool[1, 0, 1], Bool[1, 1, 0]]\n",
       " [Bool[1, 1, 1], Bool[0, 0, 1], Bool[0, 1, 0]]\n",
       " [Bool[0, 1, 0], Bool[1, 0, 0], Bool[1, 1, 1]]"
      ]
     },
     "metadata": {},
     "output_type": "display_data"
    }
   ],
   "source": [
    "table .|> neighbours"
   ]
  },
  {
   "cell_type": "code",
   "execution_count": 7,
   "metadata": {},
   "outputs": [
    {
     "data": {
      "text/plain": [
       "5-element Vector{BitVector}:\n",
       " [1, 0, 1]\n",
       " [0, 0, 1]\n",
       " [1, 1, 1]\n",
       " [0, 1, 1]\n",
       " [1, 1, 0]"
      ]
     },
     "metadata": {},
     "output_type": "display_data"
    }
   ],
   "source": [
    "to_match = collect(table)"
   ]
  },
  {
   "cell_type": "code",
   "execution_count": 8,
   "metadata": {},
   "outputs": [],
   "source": [
    "using Base.Iterators: filter as lfilter"
   ]
  },
  {
   "cell_type": "code",
   "execution_count": 9,
   "metadata": {},
   "outputs": [
    {
     "data": {
      "text/plain": [
       "⟺ (generic function with 1 method)"
      ]
     },
     "metadata": {},
     "output_type": "display_data"
    }
   ],
   "source": [
    "⟺(a::Bool, b::Bool) = a === b"
   ]
  },
  {
   "cell_type": "code",
   "execution_count": 10,
   "metadata": {},
   "outputs": [
    {
     "data": {
      "text/plain": [
       "Set{BitVector} with 5 elements:\n",
       "  Bool[1, 0, 1]\n",
       "  Bool[0, 0, 1]\n",
       "  Bool[1, 1, 1]\n",
       "  Bool[0, 1, 1]\n",
       "  Bool[1, 1, 0]"
      ]
     },
     "metadata": {},
     "output_type": "display_data"
    },
    {
     "data": {
      "text/plain": [
       "Set{Any} with 5 elements:\n",
       "  (Bool[1, 0, 1], Bool[1, 1, 1])\n",
       "  (Bool[1, 1, 1], Bool[0, 1, 1])\n",
       "  (Bool[1, 1, 1], Bool[1, 1, 0])\n",
       "  (Bool[1, 0, 1], Bool[0, 0, 1])\n",
       "  (Bool[0, 0, 1], Bool[0, 1, 1])"
      ]
     },
     "metadata": {},
     "output_type": "display_data"
    },
    {
     "data": {
      "text/plain": [
       "Dict{BitVector, Bool} with 5 entries:\n",
       "  [1, 0, 1] => 1\n",
       "  [0, 0, 1] => 1\n",
       "  [1, 1, 1] => 1\n",
       "  [0, 1, 1] => 0\n",
       "  [1, 1, 0] => 0"
      ]
     },
     "metadata": {},
     "output_type": "display_data"
    },
    {
     "data": {
      "text/plain": [
       "Set{BitVector} with 5 elements:\n",
       "  Bool[1, 0, 1]\n",
       "  Bool[0, 0, 1]\n",
       "  Bool[1, 1, 1]\n",
       "  Bool[0, 1, 1]\n",
       "  Bool[1, 1, 0]"
      ]
     },
     "metadata": {},
     "output_type": "display_data"
    }
   ],
   "source": [
    "table = evaluate(f, exhaust(3)) |> \n",
    "    positive |> \n",
    "    keys |>\n",
    "    Set\n",
    "\n",
    "display(table)\n",
    "\n",
    "processed = Dict(table .=> false)\n",
    "matched = Set()\n",
    "\n",
    "for vec in lfilter(v -> v in table, collect(table))\n",
    "    for neighbour in lfilter(neigh -> neigh in table, neighbours(vec))\n",
    "        if (neighbour, vec) ∉ matched\n",
    "            push!(matched, (vec, neighbour))\n",
    "            processed[vec] = true\n",
    "        end\n",
    "    end\n",
    "end\n",
    "\n",
    "display(matched)\n",
    "display(processed)\n",
    "display(table)"
   ]
  },
  {
   "cell_type": "code",
   "execution_count": 45,
   "metadata": {},
   "outputs": [
    {
     "data": {
      "text/plain": [
       "match! (generic function with 1 method)"
      ]
     },
     "metadata": {},
     "output_type": "display_data"
    }
   ],
   "source": [
    "function match!(table)\n",
    "    matched = Set()\n",
    "    processed = Dict(table .=> false)\n",
    "\n",
    "    for vec in lfilter(v -> v in table, collect(table))\n",
    "        for neighbour in lfilter(neigh -> neigh in table, neighbours(vec))\n",
    "            if (neighbour, vec) ∉ matched\n",
    "                push!(matched, (vec, neighbour))\n",
    "                processed[vec] = true\n",
    "                processed[neighbour] = true\n",
    "            end\n",
    "        end\n",
    "    end\n",
    "\n",
    "    return matched, filter(entry -> !entry.second, processed) |> keys |> Set\n",
    "end"
   ]
  },
  {
   "cell_type": "code",
   "execution_count": 53,
   "metadata": {},
   "outputs": [
    {
     "data": {
      "text/plain": [
       "Set{Any} with 5 elements:\n",
       "  (Bool[1, 0, 1], Bool[1, 1, 1])\n",
       "  (Bool[1, 1, 1], Bool[0, 1, 1])\n",
       "  (Bool[1, 1, 1], Bool[1, 1, 0])\n",
       "  (Bool[1, 0, 1], Bool[0, 0, 1])\n",
       "  (Bool[0, 0, 1], Bool[0, 1, 1])"
      ]
     },
     "metadata": {},
     "output_type": "display_data"
    },
    {
     "data": {
      "text/plain": [
       "Set{BitVector}()"
      ]
     },
     "metadata": {},
     "output_type": "display_data"
    },
    {
     "data": {
      "text/plain": [
       "(nothing, nothing)"
      ]
     },
     "metadata": {},
     "output_type": "display_data"
    }
   ],
   "source": [
    "table = evaluate(f, exhaust(3)) |> \n",
    "    positive |> \n",
    "    keys |>\n",
    "    Set\n",
    "\n",
    "matched = match!(table)\n",
    "display.(matched)"
   ]
  },
  {
   "cell_type": "code",
   "execution_count": 42,
   "metadata": {},
   "outputs": [
    {
     "data": {
      "text/plain": [
       "combine! (generic function with 1 method)"
      ]
     },
     "metadata": {},
     "output_type": "display_data"
    }
   ],
   "source": [
    "function combine!((vec1, vec2)::Tuple)\n",
    "    let ret = Vector{Union{Bool, Missing}}(copy(vec1))\n",
    "        diff = (vec1 .!== vec2) |> \n",
    "            skipmissing |> \n",
    "            argmax\n",
    "\n",
    "        ret[diff] = missing\n",
    "        ret\n",
    "    end\n",
    "end"
   ]
  },
  {
   "cell_type": "code",
   "execution_count": 47,
   "metadata": {},
   "outputs": [
    {
     "data": {
      "text/plain": [
       "reduce_terms (generic function with 1 method)"
      ]
     },
     "metadata": {},
     "output_type": "display_data"
    }
   ],
   "source": [
    "function reduce_terms(table)\n",
    "    prime = Set()\n",
    "\n",
    "    matched = [1]\n",
    "    \n",
    "    while length(matched) > 0\n",
    "        matched, non_matched = match!(table)\n",
    "        union!(prime, non_matched)\n",
    "        table = Set(combine!.(matched))\n",
    "    end\n",
    "\n",
    "    return prime\n",
    "end"
   ]
  },
  {
   "cell_type": "code",
   "execution_count": 57,
   "metadata": {},
   "outputs": [
    {
     "data": {
      "text/plain": [
       "Set{Any} with 3 elements:\n",
       "  Union{Missing, Bool}[true, missing, true]\n",
       "  Union{Missing, Bool}[true, true, missing]\n",
       "  Bool[0, 0, 0]"
      ]
     },
     "metadata": {},
     "output_type": "display_data"
    }
   ],
   "source": [
    "g(a, b, c) = (!a) ⊻ (b || c)\n",
    "\n",
    "table = evaluate(g, exhaust(3)) |> \n",
    "    positive |> \n",
    "    keys |>\n",
    "    Set\n",
    "\n",
    "res = reduce_terms(table)"
   ]
  },
  {
   "cell_type": "code",
   "execution_count": null,
   "metadata": {},
   "outputs": [],
   "source": []
  }
 ],
 "metadata": {
  "kernelspec": {
   "display_name": "Julia 1.8.5",
   "language": "julia",
   "name": "julia-1.8"
  },
  "language_info": {
   "file_extension": ".jl",
   "mimetype": "application/julia",
   "name": "julia",
   "version": "1.8.5"
  },
  "orig_nbformat": 4
 },
 "nbformat": 4,
 "nbformat_minor": 2
}
